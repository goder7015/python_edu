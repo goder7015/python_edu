{
 "cells": [
  {
   "cell_type": "code",
   "execution_count": null,
   "metadata": {},
   "outputs": [],
   "source": [
    "import time\n",
    "# 匯入時間函式庫\n",
    "\n",
    "current_time = time.ctime(time.time())\n",
    "# 呼叫出時間函式庫的時間程式執行\n",
    "# 並將現在的時間賦予變數 current_time\n",
    "\n",
    "print(current_time)"
   ]
  },
  {
   "cell_type": "code",
   "execution_count": null,
   "metadata": {},
   "outputs": [],
   "source": [
    "localtime = time.localtime()\n",
    "time_string = time.strftime(\"%Y/%m/%d %H:%M:%S\", localtime)\n",
    "# 可以利用特別的格式進行排版\n",
    "\n",
    "print(time_string)"
   ]
  },
  {
   "cell_type": "code",
   "execution_count": null,
   "metadata": {},
   "outputs": [],
   "source": [
    "# 也可以多等等，印出十秒後的時間! \n",
    "\n",
    "time.sleep(10)\n",
    "# 暫停程式十秒鐘!\n",
    "\n",
    "localtime = time.localtime()\n",
    "time_string = time.strftime(\"%Y/%m/%d %H:%M:%S\", localtime)\n",
    "print(time_string)"
   ]
  },
  {
   "cell_type": "code",
   "execution_count": null,
   "metadata": {},
   "outputs": [],
   "source": [
    "# 試著自己配合最後結果，完成一個簡單的時間問答吧\n",
    "\n",
    "print(\"你好\", name, \"，現在的時間是\", time_now)"
   ]
  },
  {
   "cell_type": "code",
   "execution_count": null,
   "metadata": {},
   "outputs": [],
   "source": [
    "# 自己完成的程式也可以匯入程式做使用\n",
    "# 也可以從其他的程式匯入特定的程式\n",
    "\n",
    "from test04 import hello\n",
    "\n",
    "hello()"
   ]
  },
  {
   "cell_type": "code",
   "execution_count": null,
   "metadata": {},
   "outputs": [],
   "source": [
    "# 自己嘗試加入幾個功能到函式中吧\n",
    "\n",
    "from test04 import tryit\n",
    "\n",
    "tryit()"
   ]
  },
  {
   "cell_type": "code",
   "execution_count": null,
   "metadata": {},
   "outputs": [],
   "source": [
    "# 呼叫剛剛介紹的小小商店函式並顯示結果\n",
    "from test04 import store\n",
    "\n",
    "print(\"總共買了\", store(10, 5, 15), \"樣東西\")"
   ]
  },
  {
   "cell_type": "code",
   "execution_count": null,
   "metadata": {},
   "outputs": [],
   "source": [
    "from random import random, randint\n",
    "# 直接匯入隨機函式，方便等等做使用\n",
    "\n",
    "print(random())\n",
    "# 隨機產生 0.0 到 1.0 之間的小數\n",
    "\n",
    "print(randint(1, 100))\n",
    "# 隨機產生 1 到 100 之間的整數，也可以自己試試看修改範圍"
   ]
  }
 ],
 "metadata": {
  "kernelspec": {
   "display_name": "Python 3.7.3 ('base')",
   "language": "python",
   "name": "python3"
  },
  "language_info": {
   "codemirror_mode": {
    "name": "ipython",
    "version": 3
   },
   "file_extension": ".py",
   "mimetype": "text/x-python",
   "name": "python",
   "nbconvert_exporter": "python",
   "pygments_lexer": "ipython3",
   "version": "3.7.3"
  },
  "vscode": {
   "interpreter": {
    "hash": "c1124073dee199d8e1894afd18905e6ab65c2b78c2f71f2204c8c819619ccb15"
   }
  }
 },
 "nbformat": 4,
 "nbformat_minor": 2
}
