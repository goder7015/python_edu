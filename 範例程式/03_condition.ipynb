{
 "cells": [
  {
   "cell_type": "code",
   "execution_count": null,
   "metadata": {},
   "outputs": [],
   "source": [
    "x = 1\n",
    "y = 2\n",
    "sum = x + y\n",
    "print(\"1 + 2 =\", sum)\n",
    "\n",
    "# 設定好 x 與 y 印出總和\n",
    "# x 和 y 就是算術運算元，+ 則是算術運算子"
   ]
  },
  {
   "cell_type": "code",
   "execution_count": null,
   "metadata": {},
   "outputs": [],
   "source": [
    "print(\"(1+2)*(3-4) =\", (1+2) * (3-4))\n",
    "print(\"12除以5的餘數是\", 12 % 5)\n",
    "print(\"7的九次方是\", 7 ** 9)"
   ]
  },
  {
   "cell_type": "code",
   "execution_count": null,
   "metadata": {},
   "outputs": [],
   "source": [
    "print(\"這是兩個\" + \"被連接起來的字串\")\n",
    "print(\"這是一個要重複三次的字串\\n\" * 3)"
   ]
  },
  {
   "cell_type": "code",
   "execution_count": null,
   "metadata": {},
   "outputs": [],
   "source": [
    "print(1 > 2)\n",
    "print(5 <= 6-1)\n",
    "print(7 == 3+3)\n",
    "print(16 != 2**3)\n",
    "\n",
    "# 比較大小與相等，大家可以想想看答案喔"
   ]
  },
  {
   "cell_type": "code",
   "execution_count": null,
   "metadata": {},
   "outputs": [],
   "source": [
    "print(True and True)\n",
    "print(True and False)\n",
    "print(False or False)\n",
    "print(True or False)\n",
    "print(not True)\n",
    "\n",
    "# 各種狀況的模擬，大家也可以自己多試試看"
   ]
  },
  {
   "cell_type": "code",
   "execution_count": null,
   "metadata": {},
   "outputs": [],
   "source": [
    "# 我們讓輸入的體重需要在一定範圍內才是健康的\n",
    "# 首先輸入身高吧\n",
    "height = int(input(\"請輸入身高\"))\n",
    "\n",
    "# 然後先以 BMI 16 ~ 23 之間去計算出健康的體重範圍\n",
    "min_weight = (height / 100) ** 2 * 16\n",
    "max_weight = (height / 100) ** 2 * 23\n",
    "\n",
    "# 最後輸入你的體重\n",
    "weight = int(input(\"請輸入體重\"))\n",
    "print(\"你是不是太胖了呢?\", weight >= max_weight)\n",
    "print(\"還是太瘦了呢?\", weight <= min_weight)\n",
    "print(\"你是不是超級健康呢?\", weight < max_weight and weight > min_weight)"
   ]
  },
  {
   "cell_type": "code",
   "execution_count": null,
   "metadata": {},
   "outputs": [],
   "source": [
    "number = int(input(\"請輸入一個數字\"))\n",
    "if number > 0:\n",
    "    print(\"這是一個正數\")\n",
    "elif number < 0:\n",
    "    print(\"這是一個負數\")\n",
    "else:\n",
    "    print(\"這是0\")\n",
    "    \n",
    "# 第一個條件用 if，成立時執行縮排的程式\n",
    "# 別忘了條件後加上冒號、換行並縮排\n",
    "\n",
    "# 第二個和以後的條件用 elif\n",
    "# 最後一個選擇用 else"
   ]
  },
  {
   "cell_type": "code",
   "execution_count": null,
   "metadata": {},
   "outputs": [],
   "source": [
    "# 嘗試將上面的體重程式用 if, elif, 和 else 改寫吧\n",
    "\n",
    "    print(\"你太胖了\")\n",
    "    print(\"你太瘦了\")\n",
    "    print(\"你很健康喔\")"
   ]
  }
 ],
 "metadata": {
  "kernelspec": {
   "display_name": "Python 3.7.3 ('base')",
   "language": "python",
   "name": "python3"
  },
  "language_info": {
   "codemirror_mode": {
    "name": "ipython",
    "version": 3
   },
   "file_extension": ".py",
   "mimetype": "text/x-python",
   "name": "python",
   "nbconvert_exporter": "python",
   "pygments_lexer": "ipython3",
   "version": "3.7.3"
  },
  "vscode": {
   "interpreter": {
    "hash": "c1124073dee199d8e1894afd18905e6ab65c2b78c2f71f2204c8c819619ccb15"
   }
  }
 },
 "nbformat": 4,
 "nbformat_minor": 2
}
