{
 "cells": [
  {
   "cell_type": "code",
   "execution_count": null,
   "metadata": {},
   "outputs": [],
   "source": [
    "list_new = ['a', 'b', 'cc']\n",
    "print(list_new)\n",
    "\n",
    "# 用中括號把所有的元素包起來，用逗號隔開"
   ]
  },
  {
   "cell_type": "code",
   "execution_count": null,
   "metadata": {},
   "outputs": [],
   "source": [
    "mix = [12, 7, '12', 'asacoco']\n",
    "print(mix)\n",
    "print(len(mix))\n",
    "\n",
    "# 也可以混合種類一起存放\n",
    "# 能夠利用 len() 知道裡面有多少東西"
   ]
  },
  {
   "cell_type": "code",
   "execution_count": null,
   "metadata": {},
   "outputs": [],
   "source": [
    "print(mix[0])\n",
    "print(mix[-1])\n",
    "\n",
    "# 能夠抽出某個元素單獨顯示\n",
    "# 或是直接找出最後一個\n",
    "# 小心不要拿出不存在的元素喔"
   ]
  },
  {
   "cell_type": "code",
   "execution_count": null,
   "metadata": {},
   "outputs": [],
   "source": [
    "# 試看看，利用迴圈印出一個串列的所有元素吧\n",
    "list_food = ['apple', 'banana', 'cabbage', 'orange', 'watermelon', 'cherry']"
   ]
  },
  {
   "cell_type": "code",
   "execution_count": null,
   "metadata": {},
   "outputs": [],
   "source": [
    "list_test = ['Tim', 'Becky', 'Rosso']\n",
    "list_test.append('Justin')\n",
    "# 可以新增\n",
    "\n",
    "list_test.insert(1, 'Mars')\n",
    "# 可以插入\n",
    "\n",
    "list_test.extend(list_food)\n",
    "# 可以跟其他串列合併\n",
    "\n",
    "print(list_test)\n",
    "\n",
    "list_test.remove('apple')\n",
    "# 直接指定要刪除的項目\n",
    "\n",
    "list_test.pop()\n",
    "# 直接刪除掉最後一項\n",
    "\n",
    "print(list_test)"
   ]
  },
  {
   "cell_type": "code",
   "execution_count": null,
   "metadata": {},
   "outputs": [],
   "source": [
    "print(list_food[2:-1])\n",
    "print(list_food[:5])\n",
    "print(list_food[0:])\n",
    "\n",
    "# 這樣能夠列出限定範圍的元素喔"
   ]
  },
  {
   "cell_type": "code",
   "execution_count": null,
   "metadata": {},
   "outputs": [],
   "source": [
    "# 想想看，我們要怎麼讓兩個有重複資訊的串列合併呢?\n",
    "list_a = ['a', 'b', 'c', 'd']\n",
    "list_b = ['a', 'c', 'e', 'f']\n",
    "# 只能印出 a b c d e f"
   ]
  }
 ],
 "metadata": {
  "kernelspec": {
   "display_name": "Python 3.7.3 ('base')",
   "language": "python",
   "name": "python3"
  },
  "language_info": {
   "codemirror_mode": {
    "name": "ipython",
    "version": 3
   },
   "file_extension": ".py",
   "mimetype": "text/x-python",
   "name": "python",
   "nbconvert_exporter": "python",
   "pygments_lexer": "ipython3",
   "version": "3.7.3"
  },
  "orig_nbformat": 4,
  "vscode": {
   "interpreter": {
    "hash": "c1124073dee199d8e1894afd18905e6ab65c2b78c2f71f2204c8c819619ccb15"
   }
  }
 },
 "nbformat": 4,
 "nbformat_minor": 2
}
