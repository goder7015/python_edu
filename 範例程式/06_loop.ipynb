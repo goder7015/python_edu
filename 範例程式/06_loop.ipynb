{
 "cells": [
  {
   "cell_type": "code",
   "execution_count": null,
   "metadata": {},
   "outputs": [],
   "source": [
    "for chr in \"Hello world!\":\n",
    "    print(chr)\n",
    "\n",
    "# 可以依序印出每個字母"
   ]
  },
  {
   "cell_type": "code",
   "execution_count": null,
   "metadata": {},
   "outputs": [],
   "source": [
    "sum = 0\n",
    "for i in range(5):\n",
    "    sum += 1\n",
    "# 從零加五次\n",
    "\n",
    "print(sum)"
   ]
  },
  {
   "cell_type": "code",
   "execution_count": null,
   "metadata": {},
   "outputs": [],
   "source": [
    "sum = 0\n",
    "for i in range(5):\n",
    "    sum += i\n",
    "# 從零加上現在的次數五次\n",
    "\n",
    "print(sum)"
   ]
  },
  {
   "cell_type": "code",
   "execution_count": null,
   "metadata": {},
   "outputs": [],
   "source": [
    "sum = 0\n",
    "for i in range(1, 10, 2):\n",
    "    sum += i\n",
    "# 也可以跳著執行\n",
    "# 1 + 3 + 5 + 7 + 9\n",
    "\n",
    "print(sum)"
   ]
  },
  {
   "cell_type": "code",
   "execution_count": null,
   "metadata": {},
   "outputs": [],
   "source": [
    "# 試著利用學到的東西，印出一個5格高的金字塔吧"
   ]
  },
  {
   "cell_type": "code",
   "execution_count": null,
   "metadata": {},
   "outputs": [],
   "source": [
    "# 像鳥巢一樣一圈一圈，巢狀迴圈\n",
    "for i in range(1, 10):\n",
    "    for j in range(1, 10):\n",
    "        print(f'{j} * {i} ={j*i:3d}', end=\" | \")\n",
    "    print(\"\")\n",
    "# 九九乘法，利用格式化技巧輸出結果"
   ]
  },
  {
   "cell_type": "code",
   "execution_count": null,
   "metadata": {},
   "outputs": [],
   "source": [
    "# 試著利用巢狀迴圈，印出可以自己輸入長寬的長方形吧"
   ]
  },
  {
   "cell_type": "code",
   "execution_count": null,
   "metadata": {},
   "outputs": [],
   "source": [
    "i = 0\n",
    "while i!=5:\n",
    "    print(i)\n",
    "    i += 1\n",
    "# 在等於5之前一直印出 i，要注意while不會自己增加喔!"
   ]
  },
  {
   "cell_type": "code",
   "execution_count": null,
   "metadata": {},
   "outputs": [],
   "source": [
    "# 試著利用學到的東西，印出一個5格高的金字塔吧"
   ]
  },
  {
   "cell_type": "code",
   "execution_count": null,
   "metadata": {},
   "outputs": [],
   "source": [
    "import time\n",
    "count_down = 10\n",
    "while 1:\n",
    "# 沒有停止條件的 while，可能會造成無限迴圈\n",
    "    print(\"Count_down:\", count_down)\n",
    "    count_down -= 1\n",
    "    # 開始倒數\n",
    "    time.sleep(1)\n",
    "    # 等待一秒\n",
    "    if count_down == 0:\n",
    "        print(\"Time's up!\")\n",
    "        break\n",
    "        # 可以用 break 強制突破迴圈"
   ]
  },
  {
   "cell_type": "code",
   "execution_count": null,
   "metadata": {},
   "outputs": [],
   "source": [
    "# 利用迴圈，製作一個無限次數的終極密碼"
   ]
  }
 ],
 "metadata": {
  "kernelspec": {
   "display_name": "Python 3.7.3 ('base')",
   "language": "python",
   "name": "python3"
  },
  "language_info": {
   "codemirror_mode": {
    "name": "ipython",
    "version": 3
   },
   "file_extension": ".py",
   "mimetype": "text/x-python",
   "name": "python",
   "nbconvert_exporter": "python",
   "pygments_lexer": "ipython3",
   "version": "3.7.3"
  },
  "orig_nbformat": 4,
  "vscode": {
   "interpreter": {
    "hash": "c1124073dee199d8e1894afd18905e6ab65c2b78c2f71f2204c8c819619ccb15"
   }
  }
 },
 "nbformat": 4,
 "nbformat_minor": 2
}
