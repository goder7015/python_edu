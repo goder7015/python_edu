{
 "cells": [
  {
   "cell_type": "code",
   "execution_count": null,
   "metadata": {},
   "outputs": [],
   "source": [
    "student = {}\n",
    "student = {'name': 'Kally',\n",
    "            'ages': 14,\n",
    "            'favorite': 'Soccer',\n",
    "            'unlike': 'math'}\n",
    "\n",
    "print(student['favorite'])"
   ]
  },
  {
   "cell_type": "code",
   "execution_count": null,
   "metadata": {},
   "outputs": [],
   "source": [
    "student['hp'] = 100\n",
    "print(student)\n",
    "\n",
    "del student['hp']\n",
    "print(student)\n",
    "# 刪除 key，也可以用 pop，讓 value 能被保存"
   ]
  },
  {
   "cell_type": "code",
   "execution_count": null,
   "metadata": {},
   "outputs": [],
   "source": [
    "stu_extend = {}\n",
    "stu_extend = {'height': 165,\n",
    "                'weight': 50,\n",
    "                'class': 'A'}\n",
    "student.update(stu_extend)\n",
    "print(student)\n",
    "\n",
    "# 可以將一個字典更新到另一個字典"
   ]
  },
  {
   "cell_type": "code",
   "execution_count": null,
   "metadata": {},
   "outputs": [],
   "source": [
    "for key,value in student.items():\n",
    "    print(key, value)\n",
    "\n",
    "# 將所有物品依序列出"
   ]
  },
  {
   "cell_type": "code",
   "execution_count": null,
   "metadata": {},
   "outputs": [],
   "source": [
    "dict1 = {'name': 'Tim',\n",
    "        'age': 23}\n",
    "dict2 = {'name': 'Lily',\n",
    "        'age': 21}\n",
    "dict3 = {}\n",
    "\n",
    "list_dict = [dict1, dict2, dict3]\n",
    "print(list_dict)"
   ]
  },
  {
   "cell_type": "code",
   "execution_count": 15,
   "metadata": {},
   "outputs": [
    {
     "name": "stdout",
     "output_type": "stream",
     "text": [
      "[{'name': 'Tim', 'age': 23, '乖寶寶': True}, {'name': 'Lily', 'age': 21, '乖寶寶': True}, {'乖寶寶': True}]\n"
     ]
    }
   ],
   "source": [
    "for i in list_dict:\n",
    "    if '乖寶寶' not in i:\n",
    "        i['乖寶寶'] = True\n",
    "\n",
    "print(list_dict)"
   ]
  },
  {
   "cell_type": "code",
   "execution_count": null,
   "metadata": {},
   "outputs": [],
   "source": [
    "# 試著給予串列內所有字典一個隨機生日吧"
   ]
  },
  {
   "cell_type": "code",
   "execution_count": null,
   "metadata": {},
   "outputs": [],
   "source": [
    "# 試著利用學到的東西，製作符合需求的字典機器人吧!"
   ]
  }
 ],
 "metadata": {
  "kernelspec": {
   "display_name": "Python 3.7.3 ('base')",
   "language": "python",
   "name": "python3"
  },
  "language_info": {
   "codemirror_mode": {
    "name": "ipython",
    "version": 3
   },
   "file_extension": ".py",
   "mimetype": "text/x-python",
   "name": "python",
   "nbconvert_exporter": "python",
   "pygments_lexer": "ipython3",
   "version": "3.7.3"
  },
  "orig_nbformat": 4,
  "vscode": {
   "interpreter": {
    "hash": "c1124073dee199d8e1894afd18905e6ab65c2b78c2f71f2204c8c819619ccb15"
   }
  }
 },
 "nbformat": 4,
 "nbformat_minor": 2
}
