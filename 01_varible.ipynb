{
 "cells": [
  {
   "cell_type": "code",
   "execution_count": null,
   "metadata": {},
   "outputs": [],
   "source": [
    "name = \"Tim\"\n",
    "Height = 184.5\n",
    "weight = 80\n",
    "cool123 = \"cool321\"\n",
    "\n",
    "# 變數的建立可以有很多方式\n",
    "# 只要注意不要以數字開頭，也不要使用到常用字\n",
    "# 每個變數都是特別的，不要重複命名喔!"
   ]
  },
  {
   "cell_type": "code",
   "execution_count": null,
   "metadata": {},
   "outputs": [],
   "source": [
    "# 自己試試看建立一個變數吧!\n"
   ]
  },
  {
   "cell_type": "code",
   "execution_count": null,
   "metadata": {},
   "outputs": [],
   "source": [
    "print(name)\n",
    "print(Height)\n",
    "print(weight)\n",
    "print(cool123)\n",
    "\n",
    "# 也試著印出你剛剛建立的變數\n"
   ]
  },
  {
   "cell_type": "code",
   "execution_count": null,
   "metadata": {},
   "outputs": [],
   "source": [
    "print(\"My name is\", name, \". My nick name is\", cool123)\n",
    "\n",
    "# 也可以用逗號隔開一連串的變數"
   ]
  },
  {
   "cell_type": "code",
   "execution_count": null,
   "metadata": {},
   "outputs": [],
   "source": [
    "number_integer = 1 # 這是一個整數\n",
    "number_floating_point = 2.3 # 這是一個浮點數\n",
    "number_boolean = True # 這是一個布林數"
   ]
  },
  {
   "cell_type": "code",
   "execution_count": null,
   "metadata": {},
   "outputs": [],
   "source": [
    "type(number_integer)"
   ]
  },
  {
   "cell_type": "code",
   "execution_count": null,
   "metadata": {},
   "outputs": [],
   "source": [
    "type(number_floating_point)"
   ]
  },
  {
   "cell_type": "code",
   "execution_count": null,
   "metadata": {},
   "outputs": [],
   "source": [
    "type(number_boolean)"
   ]
  },
  {
   "cell_type": "code",
   "execution_count": null,
   "metadata": {},
   "outputs": [],
   "source": [
    "#嘗試看看你剛剛建立的變數他的類型吧!\n"
   ]
  },
  {
   "cell_type": "code",
   "execution_count": null,
   "metadata": {},
   "outputs": [],
   "source": [
    "print(1+2)\n",
    "print(3-4)\n",
    "print(5*6)\n",
    "print(7/8)\n",
    "\n",
    "# 可以對所有數值進行四則運算喔"
   ]
  },
  {
   "cell_type": "code",
   "execution_count": null,
   "metadata": {
    "scrolled": true
   },
   "outputs": [],
   "source": [
    "input(\"試著輸入文字吧\")\n",
    "name = input(\"試著輸入名字吧\")\n",
    "print(name)"
   ]
  },
  {
   "cell_type": "code",
   "execution_count": null,
   "metadata": {},
   "outputs": [],
   "source": [
    "# 試著建立一個可以進行四則運算問答的小機器人吧!\n"
   ]
  },
  {
   "cell_type": "code",
   "execution_count": null,
   "metadata": {},
   "outputs": [],
   "source": [
    "num = int(input())\n",
    "print(num)"
   ]
  },
  {
   "cell_type": "code",
   "execution_count": null,
   "metadata": {},
   "outputs": [],
   "source": [
    "name = \"Tim\"\n",
    "string_number = \"123\"\n",
    "print(name)\n",
    "print(string_number)\n",
    "\n",
    "# 用雙引號包住的大多數東西都會被當作字串喔"
   ]
  },
  {
   "cell_type": "code",
   "execution_count": null,
   "metadata": {},
   "outputs": [],
   "source": [
    "name = input(\"請問你的名字是?\\n\")\n",
    "print(\"哈囉\", name, \"，很高興認識你\")\n",
    "\n",
    "# 經典的問答應用"
   ]
  },
  {
   "cell_type": "code",
   "execution_count": null,
   "metadata": {},
   "outputs": [],
   "source": [
    "str_intro = \"Hello, I'm Mary. It's a beautiful day.\"\n",
    "\n",
    "str_search = \"ifu\"\n",
    "\n",
    "print(len(str_intro))\n",
    "# 顯示字串長度\n",
    "\n",
    "print(str_search in str_intro)\n",
    "# 搜尋字串\n",
    "\n",
    "print(str_intro.upper())\n",
    "# 全部轉大寫"
   ]
  }
 ],
 "metadata": {
  "kernelspec": {
   "display_name": "Python 3",
   "language": "python",
   "name": "python3"
  },
  "language_info": {
   "codemirror_mode": {
    "name": "ipython",
    "version": 3
   },
   "file_extension": ".py",
   "mimetype": "text/x-python",
   "name": "python",
   "nbconvert_exporter": "python",
   "pygments_lexer": "ipython3",
   "version": "3.7.3"
  }
 },
 "nbformat": 4,
 "nbformat_minor": 2
}
